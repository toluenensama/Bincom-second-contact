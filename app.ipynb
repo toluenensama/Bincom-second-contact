{
 "cells": [
  {
   "cell_type": "code",
   "execution_count": 19,
   "metadata": {},
   "outputs": [],
   "source": [
    "import os\n",
    "import re\n",
    "from typing import List"
   ]
  },
  {
   "cell_type": "code",
   "execution_count": 20,
   "metadata": {},
   "outputs": [],
   "source": [
    "def getcwd() -> str:\n",
    "    current_directory = os.getcwd()\n",
    "    return current_directory\n"
   ]
  },
  {
   "cell_type": "code",
   "execution_count": 21,
   "metadata": {},
   "outputs": [],
   "source": [
    "def read_full_name(filename=\"myName.txt\"):\n",
    "    if os.path.exists(filename):\n",
    "        with open(filename,\"r\",encoding=\"utf-8\") as f:\n",
    "            name: str = f.read()\n",
    "        \n",
    "        names = name.split(\" \")\n",
    "        first_name = names[0]\n",
    "        middle_name = names[1]\n",
    "        last_name = names[2] \n",
    "    return f\"First name: {first_name} \\nMiddle name: {middle_name} \\nLast name: {last_name}\""
   ]
  },
  {
   "cell_type": "code",
   "execution_count": 22,
   "metadata": {},
   "outputs": [],
   "source": [
    "def read_and_find_file(filename=\"baby2008.html\"):\n",
    "    matchesline: List = []\n",
    "    if os.path.exists(filename):\n",
    "        with open(filename,\"r\",encoding=\"utf-8\") as f :\n",
    "            for line in f:\n",
    "               match = re.findall(r\"<td>(.*?)</td>\",line)\n",
    "               name = [item for item in match if item != []]\n",
    "               data = [item for item in name if not item.isdigit()]\n",
    "               matchesline.append(data)\n",
    "    return [\" \".join(item) for item in matchesline if item != []]"
   ]
  },
  {
   "cell_type": "code",
   "execution_count": 23,
   "metadata": {},
   "outputs": [],
   "source": [
    "def binary_search(arr:List,target:str):\n",
    "    begining,end = 0, len(arr)-1\n",
    "    while begining <= end:\n",
    "        middle = (begining + end) // 2\n",
    "        if arr[middle] == target:\n",
    "            return middle\n",
    "        elif arr[middle] < target:\n",
    "            begining = middle + 1\n",
    "        else:\n",
    "            end = middle - 1\n",
    "    \n",
    "    return -1"
   ]
  },
  {
   "cell_type": "code",
   "execution_count": 34,
   "metadata": {},
   "outputs": [],
   "source": [
    "def search_results(arr,name):\n",
    "    index = binary_search(arr,name)\n",
    "    if index > -1:\n",
    "        return f\"The name {name} was found at index {index}\"\n",
    "    else:\n",
    "        return f\"The name {name} was not found\""
   ]
  },
  {
   "cell_type": "code",
   "execution_count": 24,
   "metadata": {},
   "outputs": [],
   "source": [
    "names: List[str] = read_and_find_file()\n",
    "names.sort()\n"
   ]
  },
  {
   "cell_type": "code",
   "execution_count": 25,
   "metadata": {},
   "outputs": [
    {
     "data": {
      "text/plain": [
       "'c:\\\\Users\\\\Admin\\\\Downloads\\\\second contact'"
      ]
     },
     "execution_count": 25,
     "metadata": {},
     "output_type": "execute_result"
    }
   ],
   "source": [
    "getcwd()"
   ]
  },
  {
   "cell_type": "code",
   "execution_count": 39,
   "metadata": {},
   "outputs": [
    {
     "data": {
      "text/plain": [
       "'The name Kyan Averi was found at index 614'"
      ]
     },
     "execution_count": 39,
     "metadata": {},
     "output_type": "execute_result"
    }
   ],
   "source": [
    "search_results(names,'Kyan Averi')\n"
   ]
  },
  {
   "cell_type": "code",
   "execution_count": 28,
   "metadata": {},
   "outputs": [
    {
     "name": "stdout",
     "output_type": "stream",
     "text": [
      "First name: Toluwalogo \n",
      "Middle name: Daniel \n",
      "Last name: Ojo\n"
     ]
    }
   ],
   "source": [
    "print(read_full_name())"
   ]
  }
 ],
 "metadata": {
  "kernelspec": {
   "display_name": "Python 3",
   "language": "python",
   "name": "python3"
  },
  "language_info": {
   "codemirror_mode": {
    "name": "ipython",
    "version": 3
   },
   "file_extension": ".py",
   "mimetype": "text/x-python",
   "name": "python",
   "nbconvert_exporter": "python",
   "pygments_lexer": "ipython3",
   "version": "3.10.0"
  }
 },
 "nbformat": 4,
 "nbformat_minor": 2
}
